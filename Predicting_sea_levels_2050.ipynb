{
 "cells": [
  {
   "cell_type": "markdown",
   "id": "daaf0a3a",
   "metadata": {},
   "source": [
    "# Predicting sea level changes with linear regression"
   ]
  },
  {
   "cell_type": "code",
   "execution_count": 2,
   "id": "790f5341",
   "metadata": {},
   "outputs": [],
   "source": [
    "#datasource:https://www.epa.gov/climate-indicators/climate-change-indicators-sea-level\n",
    "\n",
    "import os\n",
    "os.chdir(\"C:/Users/Muskan/Downloads\")"
   ]
  },
  {
   "cell_type": "code",
   "execution_count": 22,
   "id": "8732e6ae",
   "metadata": {},
   "outputs": [
    {
     "data": {
      "text/html": [
       "<div>\n",
       "<style scoped>\n",
       "    .dataframe tbody tr th:only-of-type {\n",
       "        vertical-align: middle;\n",
       "    }\n",
       "\n",
       "    .dataframe tbody tr th {\n",
       "        vertical-align: top;\n",
       "    }\n",
       "\n",
       "    .dataframe thead th {\n",
       "        text-align: right;\n",
       "    }\n",
       "</style>\n",
       "<table border=\"1\" class=\"dataframe\">\n",
       "  <thead>\n",
       "    <tr style=\"text-align: right;\">\n",
       "      <th></th>\n",
       "      <th>Year</th>\n",
       "      <th>CSIRO - Adjusted sea level_inches</th>\n",
       "      <th>CSIRO - Lower error bound (inches)</th>\n",
       "      <th>CSIRO - Upper error bound (inches)</th>\n",
       "      <th>Unnamed: 4</th>\n",
       "    </tr>\n",
       "  </thead>\n",
       "  <tbody>\n",
       "    <tr>\n",
       "      <th>0</th>\n",
       "      <td>1880</td>\n",
       "      <td>0.000000</td>\n",
       "      <td>-0.952756</td>\n",
       "      <td>0.952756</td>\n",
       "      <td>NaN</td>\n",
       "    </tr>\n",
       "    <tr>\n",
       "      <th>1</th>\n",
       "      <td>1881</td>\n",
       "      <td>0.220472</td>\n",
       "      <td>-0.732283</td>\n",
       "      <td>1.173228</td>\n",
       "      <td>NaN</td>\n",
       "    </tr>\n",
       "    <tr>\n",
       "      <th>2</th>\n",
       "      <td>1882</td>\n",
       "      <td>-0.440945</td>\n",
       "      <td>-1.346457</td>\n",
       "      <td>0.464567</td>\n",
       "      <td>NaN</td>\n",
       "    </tr>\n",
       "    <tr>\n",
       "      <th>3</th>\n",
       "      <td>1883</td>\n",
       "      <td>-0.232283</td>\n",
       "      <td>-1.129921</td>\n",
       "      <td>0.665354</td>\n",
       "      <td>NaN</td>\n",
       "    </tr>\n",
       "    <tr>\n",
       "      <th>4</th>\n",
       "      <td>1884</td>\n",
       "      <td>0.590551</td>\n",
       "      <td>-0.283465</td>\n",
       "      <td>1.464567</td>\n",
       "      <td>NaN</td>\n",
       "    </tr>\n",
       "  </tbody>\n",
       "</table>\n",
       "</div>"
      ],
      "text/plain": [
       "   Year  CSIRO - Adjusted sea level_inches  \\\n",
       "0  1880                           0.000000   \n",
       "1  1881                           0.220472   \n",
       "2  1882                          -0.440945   \n",
       "3  1883                          -0.232283   \n",
       "4  1884                           0.590551   \n",
       "\n",
       "   CSIRO - Lower error bound (inches)  CSIRO - Upper error bound (inches)  \\\n",
       "0                           -0.952756                            0.952756   \n",
       "1                           -0.732283                            1.173228   \n",
       "2                           -1.346457                            0.464567   \n",
       "3                           -1.129921                            0.665354   \n",
       "4                           -0.283465                            1.464567   \n",
       "\n",
       "   Unnamed: 4  \n",
       "0         NaN  \n",
       "1         NaN  \n",
       "2         NaN  \n",
       "3         NaN  \n",
       "4         NaN  "
      ]
     },
     "execution_count": 22,
     "metadata": {},
     "output_type": "execute_result"
    }
   ],
   "source": [
    "import pandas as pd\n",
    "import numpy as np\n",
    "import matplotlib.pyplot as plt\n",
    "\n",
    "#importing the dataset containing average absolute global sea level changes in inches till 2013\n",
    "sea_level_df=pd.read_csv(\"sea-level.csv\")\n",
    "\n",
    "sea_level_df.head()"
   ]
  },
  {
   "cell_type": "markdown",
   "id": "8d4e07d8",
   "metadata": {},
   "source": [
    "Predictor and Response variable"
   ]
  },
  {
   "cell_type": "code",
   "execution_count": 23,
   "id": "cd773102",
   "metadata": {},
   "outputs": [],
   "source": [
    "#Sea level changes will be predicted based on years\n",
    "x=sea_level_df['Year'] #Predictor Variable\n",
    "y=sea_level_df['CSIRO - Adjusted sea level_inches'] #Response variable"
   ]
  },
  {
   "cell_type": "markdown",
   "id": "645b2aba",
   "metadata": {},
   "source": [
    "Establishing relationship between Year and Sea Level"
   ]
  },
  {
   "cell_type": "code",
   "execution_count": 24,
   "id": "f83553c4",
   "metadata": {},
   "outputs": [
    {
     "data": {
      "text/plain": [
       "<AxesSubplot:xlabel='Year', ylabel='CSIRO - Adjusted sea level_inches'>"
      ]
     },
     "execution_count": 24,
     "metadata": {},
     "output_type": "execute_result"
    },
    {
     "data": {
      "image/png": "[encoded data removed]",
      "text/plain": [
       "<Figure size 432x288 with 1 Axes>"
      ]
     },
     "metadata": {
      "needs_background": "light"
     },
     "output_type": "display_data"
    }
   ],
   "source": [
    "#establishing relationship between two continous variables can be done by a scatter plot \n",
    "sea_level_df.plot.scatter(x='Year',y='CSIRO - Adjusted sea level_inches')"
   ]
  },
  {
   "cell_type": "markdown",
   "id": "a3f7a9db",
   "metadata": {},
   "source": [
    "Least Squares Linear Regression "
   ]
  },
  {
   "cell_type": "code",
   "execution_count": 25,
   "id": "9177f7eb",
   "metadata": {},
   "outputs": [
    {
     "data": {
      "text/plain": [
       "LinregressResult(slope=0.0628765374624721, intercept=-118.74277636667209, rvalue=0.9853415819164769, pvalue=2.924295915522909e-103, stderr=0.0009474930061257325, intercept_stderr=1.8446592634400003)"
      ]
     },
     "execution_count": 25,
     "metadata": {},
     "output_type": "execute_result"
    }
   ],
   "source": [
    "#Fitting a regression model with Year as predictor and Sea Level Change as the reponse variable\n",
    "from scipy.stats import linregress \n",
    "regression_model=linregress(sea_level_df['Year'],sea_level_df['CSIRO - Adjusted sea level_inches'])\n",
    "regression_model"
   ]
  },
  {
   "cell_type": "markdown",
   "id": "7f032d62",
   "metadata": {},
   "source": [
    "Predicting sea level changes till the year 2050"
   ]
  },
  {
   "cell_type": "code",
   "execution_count": 34,
   "id": "9fec48ad",
   "metadata": {},
   "outputs": [
    {
     "name": "stdout",
     "output_type": "stream",
     "text": [
      "[1880 1881 1882 1883 1884]\n",
      "10.09124889393324\n"
     ]
    }
   ],
   "source": [
    "years_2050_pred=np.arange(x.min(),2050,1) #making an array of years from 1880-2050\n",
    "print(years_2050_pred[0:5]) #checking values in the array\n",
    "\n",
    "#sea level change predictions based on the slope and intercept of the regression model stored in an array\n",
    "\n",
    "level_2050_pred=years_2050_pred*regression_model.slope + regression_model.intercept\n",
    "\n",
    "print(level_2050_pred[169]) #checking a random year predicted value "
   ]
  },
  {
   "cell_type": "markdown",
   "id": "a7ccfdf5",
   "metadata": {},
   "source": [
    "Plotting a Best Fit line for the predicted years "
   ]
  },
  {
   "cell_type": "code",
   "execution_count": 49,
   "id": "52bfeeeb",
   "metadata": {},
   "outputs": [
    {
     "name": "stderr",
     "output_type": "stream",
     "text": [
      "<ipython-input-49-a5a0da6b7f15>:10: MatplotlibDeprecationWarning: Adding an axes using the same arguments as a previous axes currently reuses the earlier instance.  In a future version, a new instance will always be created and returned.  Meanwhile, this warning can be suppressed, and the future behavior ensured, by passing a unique label to each axes instance.\n",
      "  ax1= plt.axes()\n"
     ]
    },
    {
     "data": {
      "image/png": "[encoded data removed]",
      "text/plain": [
       "<Figure size 432x288 with 1 Axes>"
      ]
     },
     "metadata": {
      "needs_background": "light"
     },
     "output_type": "display_data"
    }
   ],
   "source": [
    "# both years_2050_pred and level_2050_pred are arrays with years and sea level change predictions\n",
    "plt.plot(years_2050_pred,level_2050_pred,\"r\")\n",
    "\n",
    "#Line of best fit shows sea levels changes rising as years pass by \n",
    "plt.xlabel('Year',fontweight='bold')\n",
    "plt.ylabel('Sea Level (inches)',fontweight='bold')\n",
    "plt.title('Rise in Sea Level',fontweight='bold')\n",
    "\n",
    "#Setting the background color of the plot using set_facecolor() method\n",
    "ax1= plt.axes()\n",
    "ax1.set_facecolor(\"yellow\")"
   ]
  },
  {
   "cell_type": "code",
   "execution_count": 51,
   "id": "aa6093ca",
   "metadata": {},
   "outputs": [
    {
     "name": "stderr",
     "output_type": "stream",
     "text": [
      "No handles with labels found to put in legend.\n",
      "<ipython-input-51-bc83a103ab4b>:17: MatplotlibDeprecationWarning: Adding an axes using the same arguments as a previous axes currently reuses the earlier instance.  In a future version, a new instance will always be created and returned.  Meanwhile, this warning can be suppressed, and the future behavior ensured, by passing a unique label to each axes instance.\n",
      "  ax = plt.axes()\n"
     ]
    },
    {
     "data": {
      "image/png": "[encoded data removed]",
      "text/plain": [
       "<Figure size 432x288 with 1 Axes>"
      ]
     },
     "metadata": {
      "needs_background": "light"
     },
     "output_type": "display_data"
    }
   ],
   "source": [
    "#Creating a second line of best fit for years 2000-2050\n",
    "df_2000 = sea_level_df[sea_level_df['Year'] >= 2000]\n",
    "\n",
    "\n",
    "regression_model_B = linregress(df_2000['Year'], df_2000['CSIRO - Adjusted sea level_inches'])\n",
    "years_2050_pred_B = np.arange(2000,2050,1)\n",
    "level_2050_pred_B = years_2050_pred_B*regression_model_B.slope + regression_model_B.intercept\n",
    "\n",
    "plt.plot(years_2050_pred_B,level_2050_pred_B,\"b\")\n",
    "\n",
    "plt.xlabel('Year',fontweight='bold')\n",
    "plt.ylabel('Sea Level (inches)',fontweight='bold')\n",
    "plt.title('Rise in Sea Level',fontweight='bold')\n",
    "\n",
    "#Setting the background color of the plot using set_facecolor() method\n",
    "ax = plt.axes()\n",
    "ax.set_facecolor(\"pink\")"
   ]
  },
  {
   "cell_type": "markdown",
   "id": "af77ab7c",
   "metadata": {},
   "source": [
    "#### Conclusion:Sea Levels will continue to rise through 2050 at the current pace of climate change"
   ]
  }
 ],
 "metadata": {
  "kernelspec": {
   "display_name": "Python 3",
   "language": "python",
   "name": "python3"
  },
  "language_info": {
   "codemirror_mode": {
    "name": "ipython",
    "version": 3
   },
   "file_extension": ".py",
   "mimetype": "text/x-python",
   "name": "python",
   "nbconvert_exporter": "python",
   "pygments_lexer": "ipython3",
   "version": "3.8.3"
  }
 },
 "nbformat": 4,
 "nbformat_minor": 5
}
